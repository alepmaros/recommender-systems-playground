{
 "cells": [
  {
   "cell_type": "markdown",
   "id": "f9792be0-d45b-4120-a732-745ac67a69ab",
   "metadata": {},
   "source": [
    "# Collaborative Filtering using Neural Networks\n",
    "\n",
    "Inspirations\n",
    "- https://www.kaggle.com/code/chaitanya99/recommendation-system-cf-anime\n",
    "- fast.ai CF lib"
   ]
  },
  {
   "cell_type": "code",
   "execution_count": null,
   "id": "094f40f3",
   "metadata": {},
   "outputs": [],
   "source": [
    "import pandas as pd\n",
    "import seaborn as sns\n",
    "import numpy as np\n",
    "\n",
    "import glob\n",
    "import keras\n",
    "\n",
    "from models import EmbeddingDotBias\n",
    "\n",
    "import tensorflow as tf\n",
    "print(tf.config.experimental.list_physical_devices('GPU'))\n",
    "\n",
    "sns.set_theme()"
   ]
  },
  {
   "cell_type": "code",
   "execution_count": null,
   "id": "7d42e3d2",
   "metadata": {},
   "outputs": [],
   "source": [
    "CUR_INPUT = \"/mnt/d/datasets/anime2020/\"\n",
    "INPUT_DIR = \"/mnt/d/datasets/anime2020/animelist_400+/*.parquet\"\n",
    "OUTPUT_DIR = \"/mnt/d/datasets/anime2020/animelist_400+_outputs/\""
   ]
  },
  {
   "cell_type": "code",
   "execution_count": null,
   "id": "823ab76e",
   "metadata": {},
   "outputs": [],
   "source": [
    "rating_df = pd.read_parquet(\n",
    "    glob.glob(INPUT_DIR)[0],\n",
    "    columns=[\"user\", \"anime\", \"rating\"]\n",
    ")\n",
    "\n",
    "rating_df"
   ]
  },
  {
   "cell_type": "code",
   "execution_count": null,
   "id": "74c214c3",
   "metadata": {},
   "outputs": [],
   "source": [
    "n_users = rating_df[\"user\"].nunique()\n",
    "n_animes = rating_df[\"anime\"].nunique()"
   ]
  },
  {
   "cell_type": "code",
   "execution_count": null,
   "id": "543a2f23",
   "metadata": {},
   "outputs": [],
   "source": [
    "X = rating_df[['user', 'anime']].values\n",
    "y = rating_df[\"rating\"]"
   ]
  },
  {
   "cell_type": "code",
   "execution_count": null,
   "id": "1a1c075f",
   "metadata": {},
   "outputs": [],
   "source": [
    "# Split\n",
    "test_set_size = int(rating_df.shape[0] * 0.01) # 1% for test\n",
    "train_indices = rating_df.shape[0] - test_set_size \n",
    "\n",
    "X_train, X_test, y_train, y_test = (\n",
    "    X[:train_indices],\n",
    "    X[train_indices:],\n",
    "    y[:train_indices],\n",
    "    y[train_indices:],\n",
    ")\n",
    "\n",
    "print('> Train set ratings: {}'.format(len(y_train)))\n",
    "print('> Test set ratings: {}'.format(len(y_test)))"
   ]
  },
  {
   "cell_type": "code",
   "execution_count": null,
   "id": "ee422911",
   "metadata": {},
   "outputs": [],
   "source": [
    "X_train_array = [X_train[:, 0], X_train[:, 1]]\n",
    "X_test_array = [X_test[:, 0], X_test[:, 1]]"
   ]
  },
  {
   "cell_type": "code",
   "execution_count": null,
   "id": "76bcaec3",
   "metadata": {},
   "outputs": [],
   "source": [
    "model, model_config = EmbeddingDotBias()\n",
    "model_sufix = f'{model_config[\"model_name\"]}_lr{model_config[\"learning_rate\"]}}_{model_config[\"loss\"]}_fc{model_config[\"n_factors\"]}_bn{model_config[\"batch_norm\"]}_bias{model_config[\"use_bias\"]}'\n",
    "print(model_sufix)\n",
    "\n",
    "model.summary()"
   ]
  },
  {
   "cell_type": "code",
   "execution_count": null,
   "id": "9f5bc05e",
   "metadata": {},
   "outputs": [],
   "source": [
    "# Callbacks\n",
    "from tensorflow.keras.callbacks import Callback, ModelCheckpoint, , TensorBoard, EarlyStopping, ReduceLROnPlateau\n",
    "\n",
    "checkpoint_filepath = f'./weights_{model_config[\"n_factors\"]}_.h5'\n",
    "model_checkpoints = ModelCheckpoint(\n",
    "    filepath=checkpoint_filepath,\n",
    "    save_weights_only=True,\n",
    "    monitor='val_loss',\n",
    "    mode='min',\n",
    "    save_best_only=True\n",
    ")\n",
    "\n",
    "early_stopping = EarlyStopping(\n",
    "    patience = 3,\n",
    "    monitor='val_loss', \n",
    "    mode='min',\n",
    "    restore_best_weights=True\n",
    ")\n",
    "\n",
    "my_callbacks = [\n",
    "    model_checkpoints,\n",
    "    early_stopping,   \n",
    "]"
   ]
  },
  {
   "cell_type": "code",
   "execution_count": null,
   "id": "8f37e8af",
   "metadata": {},
   "outputs": [],
   "source": [
    "history = model.fit(\n",
    "    x=X_train_array,\n",
    "    y=y_train,\n",
    "    batch_size=batch_size,\n",
    "    epochs=15,\n",
    "    verbose=1,\n",
    "    validation_data=(X_test_array, y_test),\n",
    "    callbacks=my_callbacks\n",
    ")"
   ]
  },
  {
   "cell_type": "code",
   "execution_count": null,
   "id": "e12755e7",
   "metadata": {},
   "outputs": [],
   "source": [
    "plot_df = pd.DataFrame(history.history)\n",
    "plot_df[\"epochs\"] = plot_df.index\n",
    "plot_df = plot_df[[\"epochs\", \"loss\", \"val_loss\"]]\n",
    "plot_df = pd.melt(plot_df, ['epochs'], value_name=\"loss_value\")\n",
    "\n",
    "axs = sns.lineplot(plot_df, x=\"epochs\", y=\"loss_value\", hue=\"variable\")\n",
    "axs.figure.savefig(f\"loss_{model_sufix}.png\")"
   ]
  },
  {
   "cell_type": "code",
   "execution_count": null,
   "id": "12627fa4",
   "metadata": {},
   "outputs": [],
   "source": [
    "model.load_weights(checkpoint_filepath)"
   ]
  },
  {
   "cell_type": "code",
   "execution_count": null,
   "id": "290f8e19",
   "metadata": {},
   "outputs": [],
   "source": [
    "def extract_weights(name, model):\n",
    "    weight_layer = model.get_layer(name)\n",
    "    weights = weight_layer.get_weights()[0]\n",
    "    weights = weights / np.linalg.norm(weights, axis = 1).reshape((-1, 1))\n",
    "    return weights\n",
    "\n",
    "anime_embeddings = extract_weights('anime_embedding', model)\n",
    "user_embeddings = extract_weights('user_embedding', model)"
   ]
  },
  {
   "cell_type": "code",
   "execution_count": null,
   "id": "535e7403",
   "metadata": {},
   "outputs": [],
   "source": [
    "import os\n",
    "import pickle\n",
    "\n",
    "with open(os.path.join(OUTPUT_DIR, f\"anime_embeddings_{model_sufix}.pickle\"), \"wb\") as f:\n",
    "    pickle.dump(anime_embeddings, f)\n",
    "\n",
    "with open(os.path.join(OUTPUT_DIR, f\"user_embeddings_{model_sufix}.pickle\"), \"wb\") as f:\n",
    "    pickle.dump(user_embeddings, f)"
   ]
  },
  {
   "cell_type": "code",
   "execution_count": null,
   "id": "58e6e779",
   "metadata": {},
   "outputs": [],
   "source": [
    "df_anime = pd.read_csv(os.path.join(CUR_INPUT, \"anime.csv\"), low_memory=True)\n",
    "df_anime = df_anime.rename(columns={\"MAL_ID\": \"anime_id\"})"
   ]
  },
  {
   "cell_type": "code",
   "execution_count": null,
   "id": "45c1596b",
   "metadata": {},
   "outputs": [],
   "source": [
    "with open(os.path.join(INPUT_DIR, \"anime2anime_encoded.pickle\"), \"rb\") as input_file:\n",
    "    anime2anime_encoded = pickle.load(input_file)"
   ]
  },
  {
   "cell_type": "code",
   "execution_count": null,
   "id": "435876eb",
   "metadata": {},
   "outputs": [],
   "source": [
    "df_anime[\"anime_id_mapped\"] = df_anime[\"anime_id\"].map(anime2anime_encoded, na_action=\"ignore\")\n",
    "df_anime = df_anime.dropna(subset=[\"anime_id_mapped\"])\n",
    "df_anime[\"anime_id_mapped\"] = df_anime[\"anime_id_mapped\"].astype(int)"
   ]
  },
  {
   "cell_type": "code",
   "execution_count": null,
   "id": "d679cdb1",
   "metadata": {},
   "outputs": [],
   "source": [
    "df_anime.sort_values(\"anime_id_mapped\")[[\"Name\"]].to_csv(os.path.join(OUTPUT_DIR, \"anime.tsv\"), sep=\"\\t\", index=False, header=False)\n"
   ]
  },
  {
   "cell_type": "code",
   "execution_count": null,
   "id": "62f469b0",
   "metadata": {},
   "outputs": [],
   "source": []
  },
  {
   "cell_type": "code",
   "execution_count": null,
   "id": "bcb64940",
   "metadata": {},
   "outputs": [],
   "source": []
  }
 ],
 "metadata": {
  "kernelspec": {
   "display_name": "Python 3",
   "language": "python",
   "name": "python3"
  },
  "language_info": {
   "codemirror_mode": {
    "name": "ipython",
    "version": 3
   },
   "file_extension": ".py",
   "mimetype": "text/x-python",
   "name": "python",
   "nbconvert_exporter": "python",
   "pygments_lexer": "ipython3",
   "version": "3.9.12"
  }
 },
 "nbformat": 4,
 "nbformat_minor": 5
}
