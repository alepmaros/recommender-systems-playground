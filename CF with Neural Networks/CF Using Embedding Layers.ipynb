{
 "cells": [
  {
   "cell_type": "markdown",
   "id": "f9792be0-d45b-4120-a732-745ac67a69ab",
   "metadata": {},
   "source": [
    "# Collaborative Filtering using Neural Networks\n",
    "\n",
    "Inspirations\n",
    "- https://www.kaggle.com/code/chaitanya99/recommendation-system-cf-anime\n",
    "- fast.ai CF lib"
   ]
  },
  {
   "cell_type": "code",
   "execution_count": null,
   "id": "094f40f3",
   "metadata": {},
   "outputs": [],
   "source": [
    "import pandas as pd\n",
    "import seaborn as sns\n",
    "import numpy as np\n",
    "\n",
    "import glob\n",
    "import keras\n",
    "import os\n",
    "import pickle\n",
    "\n",
    "from models import EmbeddingDotBias\n",
    "\n",
    "import tensorflow as tf\n",
    "print(tf.config.experimental.list_physical_devices('GPU'))\n",
    "\n",
    "sns.set_theme()"
   ]
  },
  {
   "cell_type": "code",
   "execution_count": null,
   "id": "7d42e3d2",
   "metadata": {},
   "outputs": [],
   "source": [
    "CUR_INPUT = \"/mnt/d/datasets/anime2020/\"\n",
    "INPUT_DIR = \"/mnt/d/datasets/anime2020/animelist_400+/\"\n",
    "OUTPUT_DIR = \"/mnt/d/datasets/anime2020/animelist_400+_outputs/\""
   ]
  },
  {
   "cell_type": "code",
   "execution_count": null,
   "id": "96482677-cc01-485f-bb4c-7468b4bd8ef7",
   "metadata": {},
   "outputs": [],
   "source": [
    "df_anime = pd.read_csv(os.path.join(CUR_INPUT, \"anime.csv\"), low_memory=True)\n",
    "df_anime = df_anime.drop([f\"Score-{x}\" for x in range(1,11)], axis=1)\n",
    "df_anime = df_anime.rename(columns={\"MAL_ID\": \"anime_id\"})\n",
    "\n",
    "df_anime"
   ]
  },
  {
   "cell_type": "code",
   "execution_count": null,
   "id": "823ab76e",
   "metadata": {},
   "outputs": [],
   "source": [
    "rating_df = pd.read_parquet(\n",
    "    glob.glob(os.path.join(INPUT_DIR, \"*.parquet\"))[0],\n",
    "    columns=[\"user\", \"anime\", \"rating\"]\n",
    ")\n",
    "\n",
    "rating_df"
   ]
  },
  {
   "cell_type": "code",
   "execution_count": null,
   "id": "74c214c3",
   "metadata": {},
   "outputs": [],
   "source": [
    "n_users = rating_df[\"user\"].nunique()\n",
    "n_animes = rating_df[\"anime\"].nunique()"
   ]
  },
  {
   "cell_type": "code",
   "execution_count": null,
   "id": "543a2f23",
   "metadata": {},
   "outputs": [],
   "source": [
    "X = rating_df[['user', 'anime']].values\n",
    "y = rating_df[\"rating\"]"
   ]
  },
  {
   "cell_type": "code",
   "execution_count": null,
   "id": "1a1c075f",
   "metadata": {},
   "outputs": [],
   "source": [
    "# Split\n",
    "test_set_size = int(rating_df.shape[0] * 0.01) # 1% for test\n",
    "train_indices = rating_df.shape[0] - test_set_size \n",
    "\n",
    "X_train, X_test, y_train, y_test = (\n",
    "    X[:train_indices],\n",
    "    X[train_indices:],\n",
    "    y[:train_indices],\n",
    "    y[train_indices:],\n",
    ")\n",
    "\n",
    "print('> Train set ratings: {}'.format(len(y_train)))\n",
    "print('> Test set ratings: {}'.format(len(y_test)))"
   ]
  },
  {
   "cell_type": "code",
   "execution_count": null,
   "id": "ee422911",
   "metadata": {},
   "outputs": [],
   "source": [
    "X_train_array = [X_train[:, 0], X_train[:, 1]]\n",
    "X_test_array = [X_test[:, 0], X_test[:, 1]]"
   ]
  },
  {
   "cell_type": "code",
   "execution_count": null,
   "id": "76bcaec3",
   "metadata": {},
   "outputs": [],
   "source": [
    "model, model_config = EmbeddingDotBias(\n",
    "    n_users=n_users, n_animes=n_animes, n_factors=64, learning_rate=0.0005,\n",
    "    batch_norm=True, use_bias=True, loss=\"binary_crossentropy\"\n",
    ")\n",
    "\n",
    "model_sufix = f'{model_config[\"model_name\"]}_lr{model_config[\"learning_rate\"]}_{model_config[\"loss\"]}_fc{model_config[\"n_factors\"]}_bn{model_config[\"batch_norm\"]}_bias{model_config[\"use_bias\"]}'\n",
    "print(model_sufix)\n",
    "\n",
    "model.summary()"
   ]
  },
  {
   "cell_type": "code",
   "execution_count": null,
   "id": "9f5bc05e",
   "metadata": {},
   "outputs": [],
   "source": [
    "# Callbacks\n",
    "from tensorflow.keras.callbacks import Callback, ModelCheckpoint, TensorBoard, EarlyStopping, ReduceLROnPlateau\n",
    "\n",
    "checkpoint_filepath = f'./weights_{model_config[\"n_factors\"]}_.h5'\n",
    "model_checkpoints = ModelCheckpoint(\n",
    "    filepath=checkpoint_filepath,\n",
    "    save_weights_only=True,\n",
    "    monitor='val_loss',\n",
    "    mode='min',\n",
    "    save_best_only=True\n",
    ")\n",
    "\n",
    "early_stopping = EarlyStopping(\n",
    "    patience = 3,\n",
    "    monitor='val_loss', \n",
    "    mode='min',\n",
    "    restore_best_weights=True\n",
    ")\n",
    "\n",
    "my_callbacks = [\n",
    "    model_checkpoints,\n",
    "    early_stopping,   \n",
    "]"
   ]
  },
  {
   "cell_type": "code",
   "execution_count": null,
   "id": "8f37e8af",
   "metadata": {},
   "outputs": [],
   "source": [
    "history = model.fit(\n",
    "    x=X_train_array,\n",
    "    y=y_train,\n",
    "    batch_size=1024,\n",
    "    epochs=15,\n",
    "    verbose=1,\n",
    "    validation_data=(X_test_array, y_test),\n",
    "    callbacks=my_callbacks\n",
    ")"
   ]
  },
  {
   "cell_type": "code",
   "execution_count": null,
   "id": "e12755e7",
   "metadata": {},
   "outputs": [],
   "source": [
    "plot_df = pd.DataFrame(history.history)\n",
    "plot_df[\"epochs\"] = plot_df.index\n",
    "plot_df = plot_df[[\"epochs\", \"loss\", \"val_loss\"]]\n",
    "plot_df.to_csv(f\"loss_{model_sufix}.csv\", index=False)\n",
    "plot_df = pd.melt(plot_df, ['epochs'], value_name=\"loss_value\")\n",
    "\n",
    "axs = sns.lineplot(plot_df, x=\"epochs\", y=\"loss_value\", hue=\"variable\")\n",
    "axs.figure.savefig(f\"loss_{model_sufix}.png\")"
   ]
  },
  {
   "cell_type": "code",
   "execution_count": null,
   "id": "12627fa4",
   "metadata": {},
   "outputs": [],
   "source": [
    "model.load_weights(checkpoint_filepath)"
   ]
  },
  {
   "cell_type": "code",
   "execution_count": null,
   "id": "290f8e19",
   "metadata": {},
   "outputs": [],
   "source": [
    "def extract_weights(name, model):\n",
    "    weight_layer = model.get_layer(name)\n",
    "    weights = weight_layer.get_weights()[0]\n",
    "    weights = weights / np.linalg.norm(weights, axis = 1).reshape((-1, 1))\n",
    "    return weights\n",
    "\n",
    "anime_embeddings = extract_weights('anime_embedding', model)\n",
    "user_embeddings = extract_weights('user_embedding', model)"
   ]
  },
  {
   "cell_type": "code",
   "execution_count": null,
   "id": "535e7403",
   "metadata": {},
   "outputs": [],
   "source": [
    "\n",
    "\n",
    "with open(os.path.join(OUTPUT_DIR, f\"anime_embeddings_{model_sufix}.pickle\"), \"wb\") as f:\n",
    "    pickle.dump(anime_embeddings, f)\n",
    "\n",
    "with open(os.path.join(OUTPUT_DIR, f\"user_embeddings_{model_sufix}.pickle\"), \"wb\") as f:\n",
    "    pickle.dump(user_embeddings, f)"
   ]
  },
  {
   "cell_type": "code",
   "execution_count": null,
   "id": "45c1596b",
   "metadata": {},
   "outputs": [],
   "source": [
    "with open(os.path.join(INPUT_DIR, \"anime2anime_encoded.pickle\"), \"rb\") as input_file:\n",
    "    anime2anime_encoded = pickle.load(input_file)"
   ]
  },
  {
   "cell_type": "code",
   "execution_count": null,
   "id": "435876eb",
   "metadata": {},
   "outputs": [],
   "source": [
    "df_anime[\"anime_id_mapped\"] = df_anime[\"anime_id\"].map(anime2anime_encoded, na_action=\"ignore\")\n",
    "df_anime = df_anime.dropna(subset=[\"anime_id_mapped\"])\n",
    "df_anime[\"anime_id_mapped\"] = df_anime[\"anime_id_mapped\"].astype(int)"
   ]
  },
  {
   "cell_type": "code",
   "execution_count": null,
   "id": "d679cdb1",
   "metadata": {},
   "outputs": [],
   "source": [
    "df_anime.sort_values(\"anime_id_mapped\")[[\"Name\"]].to_csv(os.path.join(OUTPUT_DIR, \"anime.tsv\"), sep=\"\\t\", index=False, header=False)\n"
   ]
  },
  {
   "cell_type": "markdown",
   "id": "19cfeb36-3381-407b-80d5-7a4fe3224740",
   "metadata": {},
   "source": [
    "# Loss per number of anime reviewed"
   ]
  },
  {
   "cell_type": "code",
   "execution_count": null,
   "id": "7a2a4fbb-5f6a-4106-b4bf-87e9cd84f418",
   "metadata": {},
   "outputs": [],
   "source": [
    "train_rating_df = rating_df.iloc[:train_indices]\n",
    "test_rating_df = rating_df.iloc[train_indices:]"
   ]
  },
  {
   "cell_type": "code",
   "execution_count": null,
   "id": "7bbb74ca-3fec-4be4-b169-8f917c6f56b8",
   "metadata": {},
   "outputs": [],
   "source": [
    "ratings_by_user = train_rating_df[\"user\"].value_counts()\n",
    "ratings_by_user = ratings_by_user.to_frame(name=\"count\").reset_index().rename(columns={\"index\": \"user\"})\n",
    "\n",
    "test_rating_df = test_rating_df.merge(ratings_by_user, on=\"user\")\n",
    "# print(train_rating_df.shape, test_rating_df.shape)\n",
    "# df2 = df.groupby(['Courses'])['Courses'].count()"
   ]
  },
  {
   "cell_type": "code",
   "execution_count": null,
   "id": "35c23879-fda9-48cb-8cbb-7223a825c1b9",
   "metadata": {},
   "outputs": [],
   "source": [
    "ratings_by_user.describe()"
   ]
  },
  {
   "cell_type": "code",
   "execution_count": null,
   "id": "2d975541-1f97-457b-a835-961fe99e25fb",
   "metadata": {},
   "outputs": [],
   "source": [
    "scores = model.predict(X_test_array)"
   ]
  },
  {
   "cell_type": "code",
   "execution_count": null,
   "id": "982b97eb-ae51-4cff-92c6-8a9a0978c4aa",
   "metadata": {},
   "outputs": [],
   "source": [
    "test_rating_df.loc[:,\"predict\"] = scores.flatten()"
   ]
  },
  {
   "cell_type": "code",
   "execution_count": null,
   "id": "aec5d78a-5efb-40bb-a737-14555b68c35b",
   "metadata": {},
   "outputs": [],
   "source": [
    "test_rating_df"
   ]
  },
  {
   "cell_type": "code",
   "execution_count": null,
   "id": "e25c5af7-f5dc-4868-aa80-001077939426",
   "metadata": {},
   "outputs": [],
   "source": [
    "from sklearn.metrics import mean_squared_error"
   ]
  },
  {
   "cell_type": "code",
   "execution_count": null,
   "id": "a6620517-0894-4ad6-b95c-652d211f71bc",
   "metadata": {},
   "outputs": [],
   "source": [
    "test_rating_df['category'] = pd.qcut(test_rating_df['count'], q=4)"
   ]
  },
  {
   "cell_type": "code",
   "execution_count": null,
   "id": "a9232105-5ed9-42c5-b5ff-e31561ba1091",
   "metadata": {},
   "outputs": [],
   "source": [
    "grouped = test_rating_df.groupby('category')\n",
    "mse_by_category = grouped.apply(lambda x: mean_squared_error(x['rating'], x['predict']))\n",
    "print(mse_by_category)"
   ]
  },
  {
   "cell_type": "markdown",
   "id": "c42ac877-b630-405e-8369-5b73c5e9502e",
   "metadata": {},
   "source": [
    "# Loss per number of reviews that an anime has"
   ]
  },
  {
   "cell_type": "code",
   "execution_count": null,
   "id": "dd755bac-c095-4f57-8acc-03cf907bae4a",
   "metadata": {},
   "outputs": [],
   "source": [
    "# Calcular Loss "
   ]
  },
  {
   "cell_type": "markdown",
   "id": "8db85edb-3892-490e-ae29-a5187e3727ae",
   "metadata": {},
   "source": [
    "# Most similar animes"
   ]
  },
  {
   "cell_type": "code",
   "execution_count": null,
   "id": "bcb64940",
   "metadata": {},
   "outputs": [],
   "source": []
  }
 ],
 "metadata": {
  "kernelspec": {
   "display_name": "Python 3",
   "language": "python",
   "name": "python3"
  },
  "language_info": {
   "codemirror_mode": {
    "name": "ipython",
    "version": 3
   },
   "file_extension": ".py",
   "mimetype": "text/x-python",
   "name": "python",
   "nbconvert_exporter": "python",
   "pygments_lexer": "ipython3",
   "version": "3.9.12"
  }
 },
 "nbformat": 4,
 "nbformat_minor": 5
}
