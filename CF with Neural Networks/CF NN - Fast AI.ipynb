{
 "cells": [
  {
   "cell_type": "markdown",
   "id": "6990fec6",
   "metadata": {},
   "source": [
    "# Note\n",
    "\n",
    "I wasn't able to run this code on my machine due to memory issues, so this is all untested\n",
    "\n",
    "- https://docs.fast.ai/tutorial.collab.html\n",
    "- https://docs.fast.ai/collab.html#embeddingdotbias.weight\n",
    "- https://docs.fast.ai/collab.html#models\n",
    "- https://docs.fast.ai/losses.html\n",
    "- https://docs.fast.ai/data.core.html#dataloaders"
   ]
  },
  {
   "cell_type": "code",
   "execution_count": null,
   "id": "3d7c7cf1",
   "metadata": {},
   "outputs": [],
   "source": [
    "from fastai.tabular.all import *\n",
    "from fastai.collab import *\n",
    "\n",
    "import pandas as pd\n",
    "import seaborn as sns\n",
    "import numpy as np\n",
    "import glob"
   ]
  },
  {
   "cell_type": "code",
   "execution_count": null,
   "id": "c73f7c28",
   "metadata": {},
   "outputs": [],
   "source": [
    "CUR_INPUT = \"/mnt/d/datasets/anime2020/\"\n",
    "INPUT_DIR = \"/mnt/d/datasets/anime2020/animelist_400+/*.parquet\"\n",
    "\n",
    "rating_df = pd.read_parquet(\n",
    "    glob.glob(INPUT_DIR)[0],\n",
    "    columns=[\"user\", \"anime\", \"rating\"]\n",
    ")\n",
    "\n",
    "rating_df"
   ]
  },
  {
   "cell_type": "code",
   "execution_count": null,
   "id": "8ebd728a",
   "metadata": {},
   "outputs": [],
   "source": [
    "n_users = rating_df[\"user\"].nunique()\n",
    "n_animes = rating_df[\"anime\"].nunique()\n",
    "\n",
    "rating_df[\"rating\"] = (rating_df[\"rating\"] * 10)#.astype(\"int\")"
   ]
  },
  {
   "cell_type": "code",
   "execution_count": null,
   "id": "a8fe97e3",
   "metadata": {},
   "outputs": [],
   "source": [
    "dls = CollabDataLoaders.from_df(rating_df, valid_pct=20, seed=42, item_name='anime', bs=1024, device=torch.device('cuda'))"
   ]
  },
  {
   "cell_type": "code",
   "execution_count": null,
   "id": "51b098ca",
   "metadata": {},
   "outputs": [],
   "source": [
    "learn = collab_learner(dls, n_factors=64, y_range=(0, 10))"
   ]
  },
  {
   "cell_type": "code",
   "execution_count": null,
   "id": "26ca5480",
   "metadata": {},
   "outputs": [],
   "source": [
    "learn.fit_one_cycle(20, 5e-3, wd=0.1)"
   ]
  },
  {
   "cell_type": "code",
   "execution_count": null,
   "id": "b68bd323",
   "metadata": {},
   "outputs": [],
   "source": []
  }
 ],
 "metadata": {
  "kernelspec": {
   "display_name": "Python 3 (ipykernel)",
   "language": "python",
   "name": "python3"
  },
  "language_info": {
   "codemirror_mode": {
    "name": "ipython",
    "version": 3
   },
   "file_extension": ".py",
   "mimetype": "text/x-python",
   "name": "python",
   "nbconvert_exporter": "python",
   "pygments_lexer": "ipython3",
   "version": "3.9.12"
  }
 },
 "nbformat": 4,
 "nbformat_minor": 5
}
