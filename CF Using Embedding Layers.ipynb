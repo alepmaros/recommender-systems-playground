{
 "cells": [
  {
   "cell_type": "code",
   "execution_count": null,
   "id": "094f40f3",
   "metadata": {},
   "outputs": [],
   "source": [
    "import pandas as pd\n",
    "import seaborn as sns\n",
    "\n",
    "import keras\n",
    "from keras import layers \n",
    "\n",
    "# Inspirations:\n",
    "# https://www.kaggle.com/code/chaitanya99/recommendation-system-cf-anime"
   ]
  },
  {
   "cell_type": "code",
   "execution_count": null,
   "id": "7d42e3d2",
   "metadata": {},
   "outputs": [],
   "source": [
    "INPUT_DIR = \"/mnt/d/datasets/anime2020\"\n",
    "\n",
    "MIN_RATINGS = 400"
   ]
  },
  {
   "cell_type": "code",
   "execution_count": null,
   "id": "823ab76e",
   "metadata": {},
   "outputs": [],
   "source": [
    "rating_df = pd.read_csv(\n",
    "    INPUT_DIR + '/animelist.csv', \n",
    "    usecols=[\"user_id\", \"anime_id\", \"rating\"]\n",
    "    #, nrows=90000000\n",
    ")\n",
    "\n",
    "rating_df"
   ]
  },
  {
   "cell_type": "code",
   "execution_count": null,
   "id": "56fec800",
   "metadata": {},
   "outputs": [],
   "source": [
    "n_ratings = rating_df['user_id'].value_counts()\n",
    "n_ratings.describe()"
   ]
  },
  {
   "cell_type": "code",
   "execution_count": null,
   "id": "8cfc02dc",
   "metadata": {},
   "outputs": [],
   "source": [
    "# Keep only users that have min ratings\n",
    "rating_df = rating_df[rating_df['user_id'].isin(n_ratings[n_ratings >= MIN_RATINGS].index)].copy()\n",
    "print(rating_df.shape)"
   ]
  },
  {
   "cell_type": "code",
   "execution_count": null,
   "id": "1d1bb130",
   "metadata": {},
   "outputs": [],
   "source": [
    "min_rating = min(rating_df['rating'])\n",
    "max_rating = max(rating_df['rating'])\n",
    "rating_df['rating'] = rating_df[\"rating\"].apply(lambda x: (x - min_rating) / (max_rating - min_rating)).values.astype(np.float64)\n",
    "\n",
    "AvgRating = np.mean(rating_df['rating'])\n",
    "print('Avg', AvgRating)"
   ]
  },
  {
   "cell_type": "code",
   "execution_count": null,
   "id": "b43ff0b1",
   "metadata": {},
   "outputs": [],
   "source": []
  }
 ],
 "metadata": {
  "kernelspec": {
   "display_name": "Python 3 (ipykernel)",
   "language": "python",
   "name": "python3"
  },
  "language_info": {
   "codemirror_mode": {
    "name": "ipython",
    "version": 3
   },
   "file_extension": ".py",
   "mimetype": "text/x-python",
   "name": "python",
   "nbconvert_exporter": "python",
   "pygments_lexer": "ipython3",
   "version": "3.8.2"
  }
 },
 "nbformat": 4,
 "nbformat_minor": 5
}
