{
 "cells": [
  {
   "cell_type": "code",
   "execution_count": null,
   "id": "c4da1cd9",
   "metadata": {},
   "outputs": [],
   "source": [
    "from pyspark.sql import SparkSession\n",
    "import pyspark.sql.types as T\n",
    "import pyspark.sql.functions as F\n",
    "\n",
    "spark = SparkSession.builder.getOrCreate()"
   ]
  },
  {
   "cell_type": "code",
   "execution_count": null,
   "id": "2e52e972",
   "metadata": {},
   "outputs": [],
   "source": [
    "input_dir = '/mnt/d/datasets/anime2020/animelist.csv'\n",
    "output_dir = '/mnt/d/datasets/anime2020/animelist_400+'"
   ]
  },
  {
   "cell_type": "code",
   "execution_count": null,
   "id": "3cf69328",
   "metadata": {},
   "outputs": [],
   "source": [
    "schema = T.StructType([\n",
    "    T.StructField(\"user_id\", T.IntegerType(), True),\n",
    "    T.StructField(\"anime_id\", T.IntegerType(), True),\n",
    "    T.StructField(\"rating\", T.IntegerType(), True),\n",
    "    T.StructField(\"watching_status\", T.IntegerType(), True),\n",
    "    T.StructField(\"watched_episodes\", T.IntegerType(), True),\n",
    "  ])"
   ]
  },
  {
   "cell_type": "code",
   "execution_count": null,
   "id": "73b5431d",
   "metadata": {},
   "outputs": [],
   "source": [
    "df_animelist = spark.read.csv(input_dir, header=True, schema=schema)"
   ]
  },
  {
   "cell_type": "code",
   "execution_count": null,
   "id": "2db109e2",
   "metadata": {},
   "outputs": [],
   "source": [
    "df_animelist.show()\n",
    "\n",
    "df_animelist.dtypes"
   ]
  },
  {
   "cell_type": "code",
   "execution_count": null,
   "id": "096ed34f",
   "metadata": {},
   "outputs": [],
   "source": [
    "(\n",
    "    df_animelist\n",
    "    .join(\n",
    "        df_animelist.groupBy('user_id').count(), on='user_id'\n",
    "    )\n",
    "    .where(F.col('count') >= 400)\n",
    "    .select(\"user_id\" , \"anime_id\", \"rating\")\n",
    "    .coalesce(1)\n",
    "    .write.parquet(output_dir)\n",
    ")\n",
    "    "
   ]
  },
  {
   "cell_type": "code",
   "execution_count": null,
   "id": "066c2ee2",
   "metadata": {},
   "outputs": [],
   "source": []
  }
 ],
 "metadata": {
  "kernelspec": {
   "display_name": "Python 3 (ipykernel)",
   "language": "python",
   "name": "python3"
  },
  "language_info": {
   "codemirror_mode": {
    "name": "ipython",
    "version": 3
   },
   "file_extension": ".py",
   "mimetype": "text/x-python",
   "name": "python",
   "nbconvert_exporter": "python",
   "pygments_lexer": "ipython3",
   "version": "3.8.2"
  }
 },
 "nbformat": 4,
 "nbformat_minor": 5
}
