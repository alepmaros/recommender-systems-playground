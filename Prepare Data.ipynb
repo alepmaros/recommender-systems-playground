{
 "cells": [
  {
   "cell_type": "code",
   "execution_count": null,
   "id": "c4da1cd9",
   "metadata": {},
   "outputs": [],
   "source": [
    "from pyspark.sql import SparkSession\n",
    "import pyspark.sql.types as T\n",
    "import pyspark.sql.functions as F\n",
    "\n",
    "from itertools import chain\n",
    "import pickle\n",
    "import os\n",
    "\n",
    "spark = SparkSession.builder.getOrCreate()"
   ]
  },
  {
   "cell_type": "code",
   "execution_count": null,
   "id": "2e52e972",
   "metadata": {},
   "outputs": [],
   "source": [
    "input_dir = '/mnt/d/datasets/anime2020/animelist.csv'\n",
    "output_dir = '/mnt/d/datasets/anime2020/animelist_400+'"
   ]
  },
  {
   "cell_type": "code",
   "execution_count": null,
   "id": "3cf69328",
   "metadata": {},
   "outputs": [],
   "source": [
    "schema = T.StructType([\n",
    "    T.StructField(\"user_id\", T.IntegerType(), True),\n",
    "    T.StructField(\"anime_id\", T.IntegerType(), True),\n",
    "    T.StructField(\"rating\", T.IntegerType(), True),\n",
    "    T.StructField(\"watching_status\", T.IntegerType(), True),\n",
    "    T.StructField(\"watched_episodes\", T.IntegerType(), True),\n",
    "  ])"
   ]
  },
  {
   "cell_type": "code",
   "execution_count": null,
   "id": "73b5431d",
   "metadata": {},
   "outputs": [],
   "source": [
    "df_animelist = spark.read.csv(input_dir, header=True, schema=schema)"
   ]
  },
  {
   "cell_type": "code",
   "execution_count": null,
   "id": "2db109e2",
   "metadata": {},
   "outputs": [],
   "source": [
    "df_animelist.show()\n",
    "\n",
    "df_animelist.dtypes"
   ]
  },
  {
   "cell_type": "code",
   "execution_count": null,
   "id": "096ed34f",
   "metadata": {},
   "outputs": [],
   "source": [
    "df_animelist = (\n",
    "    df_animelist\n",
    "    .withColumn(\"rating\", (F.col(\"rating\") / F.lit(10.0)).cast(T.FloatType()))\n",
    "    .join(\n",
    "        df_animelist.groupBy('user_id').count(), on='user_id'\n",
    "    )\n",
    "    .where(F.col('count') >= 400)\n",
    ")"
   ]
  },
  {
   "cell_type": "code",
   "execution_count": null,
   "id": "381e84c7",
   "metadata": {},
   "outputs": [],
   "source": [
    "df_animelist.show()"
   ]
  },
  {
   "cell_type": "code",
   "execution_count": null,
   "id": "066c2ee2",
   "metadata": {},
   "outputs": [],
   "source": [
    "# Encoding categorical data\n",
    "user_ids = [\n",
    "    row[\"user_id\"] for row in\n",
    "    df_animelist.select(F.col(\"user_id\")).distinct().orderBy(F.col(\"user_id\").asc()).collect()\n",
    "]\n",
    "\n",
    "user2user_encoded = {x: i for i, x in enumerate(user_ids)}\n",
    "user_encoded2user = {i: x for i, x in enumerate(user_ids)}\n",
    "mapping_expr = F.create_map([F.lit(x) for x in chain(*user2user_encoded.items())])\n",
    "df_animelist = df_animelist.withColumn(\"user\", mapping_expr[F.col(\"user_id\")].cast(T.IntegerType()))\n",
    "\n",
    "n_users = len(user2user_encoded)\n",
    "\n",
    "\n",
    "anime_ids = [\n",
    "    row[\"anime_id\"] for row in\n",
    "    df_animelist.select(F.col(\"anime_id\")).distinct().orderBy(F.col(\"anime_id\").asc()).collect()\n",
    "]\n",
    "anime2anime_encoded = {x: i for i, x in enumerate(anime_ids)}\n",
    "anime_encoded2anime = {i: x for i, x in enumerate(anime_ids)}\n",
    "mapping_expr2 = F.create_map([F.lit(x) for x in chain(*anime2anime_encoded.items())])\n",
    "df_animelist = df_animelist.withColumn(\"anime\", mapping_expr2[F.col(\"anime_id\")].cast(T.IntegerType()))\n",
    "\n",
    "# anime_ids = rating_df[\"anime_id\"].unique().tolist\n",
    "# rating_df[\"anime\"] = rating_df[\"anime_id\"].map(anime2anime_encoded).astype(\"int32\")\n",
    "n_animes = len(anime2anime_encoded)\n",
    "\n",
    "print(\"Num of users: {}, Num of animes: {}\".format(n_users, n_animes))"
   ]
  },
  {
   "cell_type": "code",
   "execution_count": null,
   "id": "db9422fe",
   "metadata": {},
   "outputs": [],
   "source": [
    "df_animelist = df_animelist.orderBy(F.rand())"
   ]
  },
  {
   "cell_type": "code",
   "execution_count": null,
   "id": "2db3a3a1",
   "metadata": {},
   "outputs": [],
   "source": [
    "# df_animelist.show()"
   ]
  },
  {
   "cell_type": "code",
   "execution_count": null,
   "id": "15bf4dcd",
   "metadata": {},
   "outputs": [],
   "source": [
    "(\n",
    "    df_animelist\n",
    "    .select(\"user_id\" , \"anime_id\", \"rating\", \"user\", \"anime\")\n",
    "    .coalesce(1)\n",
    "    .write.mode(\"overwrite\").parquet(output_dir)\n",
    ")"
   ]
  },
  {
   "cell_type": "code",
   "execution_count": null,
   "id": "8787bba2",
   "metadata": {},
   "outputs": [],
   "source": [
    "with open(os.path.join(output_dir, \"user2user_encoded.pickle\"), \"wb\") as f:\n",
    "    pickle.dump(user2user_encoded, f)\n",
    "    \n",
    "with open(os.path.join(output_dir, \"user_encoded2user.pickle\"), \"wb\") as f:\n",
    "    pickle.dump(user_encoded2user, f)\n",
    "\n",
    "with open(os.path.join(output_dir, \"anime2anime_encoded.pickle\"), \"wb\") as f:\n",
    "    pickle.dump(anime2anime_encoded, f)\n",
    "\n",
    "with open(os.path.join(output_dir, \"anime_encoded2anime.pickle\"), \"wb\") as f:\n",
    "    pickle.dump(anime_encoded2anime, f)\n"
   ]
  },
  {
   "cell_type": "code",
   "execution_count": null,
   "id": "f6fdf7d3",
   "metadata": {},
   "outputs": [],
   "source": []
  }
 ],
 "metadata": {
  "kernelspec": {
   "display_name": "Python 3 (ipykernel)",
   "language": "python",
   "name": "python3"
  },
  "language_info": {
   "codemirror_mode": {
    "name": "ipython",
    "version": 3
   },
   "file_extension": ".py",
   "mimetype": "text/x-python",
   "name": "python",
   "nbconvert_exporter": "python",
   "pygments_lexer": "ipython3",
   "version": "3.9.15"
  }
 },
 "nbformat": 4,
 "nbformat_minor": 5
}
