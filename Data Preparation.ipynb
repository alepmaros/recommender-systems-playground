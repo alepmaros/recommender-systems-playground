{
 "cells": [
  {
   "cell_type": "code",
   "execution_count": null,
   "id": "c4da1cd9",
   "metadata": {},
   "outputs": [],
   "source": [
    "from pyspark.sql import SparkSession\n",
    "import pyspark.sql.types as T\n",
    "import pyspark.sql.functions as F\n",
    "\n",
    "from itertools import chain\n",
    "import pickle\n",
    "import os\n",
    "import pandas as pd\n",
    "import glob\n",
    "\n",
    "import seaborn as sns\n",
    "sns.set_theme()\n",
    "\n",
    "spark = SparkSession.builder.getOrCreate()"
   ]
  },
  {
   "cell_type": "code",
   "execution_count": null,
   "id": "2e52e972",
   "metadata": {},
   "outputs": [],
   "source": [
    "input_dir = '/mnt/d/datasets/anime2020/animelist.csv'\n",
    "temp_dir = '/mnt/d/datasets/anime2020/animelist_temp'\n",
    "output_dir = '/mnt/d/datasets/anime2020/animelist_sample'"
   ]
  },
  {
   "cell_type": "code",
   "execution_count": null,
   "id": "3cf69328",
   "metadata": {},
   "outputs": [],
   "source": [
    "schema = T.StructType([\n",
    "    T.StructField(\"user_id\", T.IntegerType(), True),\n",
    "    T.StructField(\"anime_id\", T.IntegerType(), True),\n",
    "    T.StructField(\"rating\", T.IntegerType(), True),\n",
    "    T.StructField(\"watching_status\", T.IntegerType(), True),\n",
    "    T.StructField(\"watched_episodes\", T.IntegerType(), True),\n",
    "  ])"
   ]
  },
  {
   "cell_type": "code",
   "execution_count": null,
   "id": "73b5431d",
   "metadata": {},
   "outputs": [],
   "source": [
    "df_animelist = spark.read.csv(input_dir, header=True, schema=schema)"
   ]
  },
  {
   "cell_type": "code",
   "execution_count": null,
   "id": "2db109e2",
   "metadata": {},
   "outputs": [],
   "source": [
    "df_animelist.show()\n",
    "\n",
    "print(df_animelist.dtypes)\n",
    "print(df_animelist.count())"
   ]
  },
  {
   "cell_type": "code",
   "execution_count": null,
   "id": "1c79f02d-68c8-4671-b758-9ff40a7ccc90",
   "metadata": {},
   "outputs": [],
   "source": [
    "user_count_anime = (\n",
    "    df_animelist\n",
    "    .groupBy('user_id')\n",
    "    .count()\n",
    "    .where(F.col(\"count\") >= 5)\n",
    "    .where(F.col(\"count\") <= 1823) # Removing some outliers, 99% percentile\n",
    "    .sample(fraction=0.7)\n",
    ")"
   ]
  },
  {
   "cell_type": "code",
   "execution_count": null,
   "id": "eabed1c9-a817-4003-9dfb-589298c52c32",
   "metadata": {},
   "outputs": [],
   "source": [
    "# user_count_anime_df = user_count_anime.toPandas()\n",
    "# user_count_anime_df.describe(percentiles=[0.25, 0.5, 0.75, 0.9, 0.95, 0.99])"
   ]
  },
  {
   "cell_type": "code",
   "execution_count": null,
   "id": "096ed34f",
   "metadata": {},
   "outputs": [],
   "source": [
    "df_animelist = (\n",
    "    df_animelist\n",
    "    .withColumn(\"rating\", (F.col(\"rating\") / F.lit(10.0)).cast(T.FloatType()))\n",
    "    .join(user_count_anime, on='user_id')\n",
    ")"
   ]
  },
  {
   "cell_type": "code",
   "execution_count": null,
   "id": "386f8cb2-43dd-4b0b-bb3e-a74a2c13e5e8",
   "metadata": {},
   "outputs": [],
   "source": [
    "(\n",
    "    df_animelist\n",
    "    .select(\"user_id\" , \"anime_id\", \"rating\")\n",
    "    .orderBy(F.rand())\n",
    "    .coalesce(1)\n",
    "    .write.mode(\"overwrite\").parquet(temp_dir)\n",
    ")\n",
    "\n",
    "df_animelist = spark.read.parquet(temp_dir)"
   ]
  },
  {
   "cell_type": "code",
   "execution_count": null,
   "id": "88b1093f-2fd7-40ae-a2e2-6b2016d8cba3",
   "metadata": {},
   "outputs": [],
   "source": [
    "df_animelist.count()"
   ]
  },
  {
   "cell_type": "code",
   "execution_count": null,
   "id": "381e84c7",
   "metadata": {},
   "outputs": [],
   "source": [
    "df_animelist.show()"
   ]
  },
  {
   "cell_type": "code",
   "execution_count": null,
   "id": "810bc878-9d11-4603-a22b-59bf98608295",
   "metadata": {},
   "outputs": [],
   "source": [
    "df_animelist = pd.read_parquet(glob.glob(os.path.join(temp_dir, \"*.parquet\"))[0])\n",
    "df_animelist"
   ]
  },
  {
   "cell_type": "code",
   "execution_count": null,
   "id": "066c2ee2",
   "metadata": {},
   "outputs": [],
   "source": [
    "# Encoding categorical data\n",
    "# user_ids = [\n",
    "#     row[\"user_id\"] for row in\n",
    "#     df_animelist.select(F.col(\"user_id\")).distinct().orderBy(F.col(\"user_id\").asc()).collect()\n",
    "# ]\n",
    "user_ids = sorted(df_animelist[\"user_id\"].unique().tolist())\n",
    "\n",
    "\n",
    "user2user_encoded = {x: i for i, x in enumerate(user_ids)}\n",
    "user_encoded2user = {i: x for i, x in enumerate(user_ids)}\n",
    "df_animelist[\"user\"] = df_animelist[\"user_id\"].map(user2user_encoded).astype(\"int32\")\n",
    "# mapping_expr = F.create_map([F.lit(x) for x in chain(*user2user_encoded.items())])\n",
    "# df_animelist = df_animelist.withColumn(\"user\", mapping_expr[F.col(\"user_id\")].cast(T.IntegerType()))\n",
    "\n",
    "n_users = len(user2user_encoded)\n",
    "\n",
    "\n",
    "# anime_ids = [\n",
    "#     row[\"anime_id\"] for row in\n",
    "#     df_animelist.select(F.col(\"anime_id\")).distinct().orderBy(F.col(\"anime_id\").asc()).collect()\n",
    "# ]\n",
    "anime_ids = sorted(df_animelist[\"anime_id\"].unique().tolist())\n",
    "anime2anime_encoded = {x: i for i, x in enumerate(anime_ids)}\n",
    "anime_encoded2anime = {i: x for i, x in enumerate(anime_ids)}\n",
    "df_animelist[\"anime\"] = df_animelist[\"anime_id\"].map(anime2anime_encoded).astype(\"int32\")\n",
    "# mapping_expr2 = F.create_map([F.lit(x) for x in chain(*anime2anime_encoded.items())])\n",
    "# df_animelist = df_animelist.withColumn(\"anime\", mapping_expr2[F.col(\"anime_id\")].cast(T.IntegerType()))\n",
    "\n",
    "# anime_ids = rating_df[\"anime_id\"].unique().tolist\n",
    "# rating_df[\"anime\"] = rating_df[\"anime_id\"].map(anime2anime_encoded).astype(\"int32\")\n",
    "n_animes = len(anime2anime_encoded)\n",
    "\n",
    "print(\"Num of users: {}, Num of animes: {}\".format(n_users, n_animes))"
   ]
  },
  {
   "cell_type": "code",
   "execution_count": null,
   "id": "2db3a3a1",
   "metadata": {},
   "outputs": [],
   "source": [
    "df_animelist.to_parquet(os.path.join(output_dir, \"anime_ratings.parquet\"))\n",
    "\n",
    "# (\n",
    "#     df_animelist\n",
    "#     .select(\"user_id\" , \"anime_id\", \"rating\", \"user\", \"anime\")\n",
    "#     .orderBy(F.rand())\n",
    "#     .coalesce(1)\n",
    "#     .write.mode(\"overwrite\").parquet(output_dir)\n",
    "# )"
   ]
  },
  {
   "cell_type": "code",
   "execution_count": null,
   "id": "8787bba2",
   "metadata": {},
   "outputs": [],
   "source": [
    "with open(os.path.join(output_dir, \"user2user_encoded.pickle\"), \"wb\") as f:\n",
    "    pickle.dump(user2user_encoded, f)\n",
    "    \n",
    "with open(os.path.join(output_dir, \"user_encoded2user.pickle\"), \"wb\") as f:\n",
    "    pickle.dump(user_encoded2user, f)\n",
    "\n",
    "with open(os.path.join(output_dir, \"anime2anime_encoded.pickle\"), \"wb\") as f:\n",
    "    pickle.dump(anime2anime_encoded, f)\n",
    "\n",
    "with open(os.path.join(output_dir, \"anime_encoded2anime.pickle\"), \"wb\") as f:\n",
    "    pickle.dump(anime_encoded2anime, f)\n"
   ]
  },
  {
   "cell_type": "code",
   "execution_count": null,
   "id": "f6fdf7d3",
   "metadata": {},
   "outputs": [],
   "source": []
  }
 ],
 "metadata": {
  "kernelspec": {
   "display_name": "Python 3",
   "language": "python",
   "name": "python3"
  },
  "language_info": {
   "codemirror_mode": {
    "name": "ipython",
    "version": 3
   },
   "file_extension": ".py",
   "mimetype": "text/x-python",
   "name": "python",
   "nbconvert_exporter": "python",
   "pygments_lexer": "ipython3",
   "version": "3.9.12"
  }
 },
 "nbformat": 4,
 "nbformat_minor": 5
}
