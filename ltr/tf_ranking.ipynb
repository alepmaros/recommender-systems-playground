{
 "cells": [
  {
   "cell_type": "code",
   "execution_count": null,
   "id": "8b313243-d1be-4b99-baaf-f18bd0c70249",
   "metadata": {},
   "outputs": [],
   "source": [
    "import tensorflow as tf\n",
    "import tensorflow_datasets as tfds\n",
    "import tensorflow_ranking as tfr\n",
    "\n",
    "from utils import read_data, get_ndcg\n",
    "\n",
    "from tqdm import tqdm\n",
    "\n",
    "from tensorflow_serving.apis import input_pb2"
   ]
  },
  {
   "cell_type": "code",
   "execution_count": null,
   "id": "5a9e7343-748b-4ee9-b85c-51f9cd89ce45",
   "metadata": {},
   "outputs": [],
   "source": [
    "# df_train, y_train, group_size_train, query_id_train = read_data('Fold1', 'train')\n",
    "df_vali, y_vali, group_size_vali, query_id_vali = read_data('Fold1', 'vali')\n",
    "# df_test, y_test, group_size_test, query_id_test = read_data('Fold1', 'test')\n",
    "\n",
    "# X_columns = df_train.columns"
   ]
  },
  {
   "cell_type": "code",
   "execution_count": null,
   "id": "49e00b91-d75d-4de8-9c18-4b103d1ad53e",
   "metadata": {},
   "outputs": [],
   "source": [
    "df_train"
   ]
  },
  {
   "cell_type": "code",
   "execution_count": null,
   "id": "60fc6255-7452-42f6-9cf3-97664ff0a2f8",
   "metadata": {},
   "outputs": [],
   "source": [
    "def _float_feature(value):\n",
    " \"\"\"Returns a float_list from a float / double.\"\"\"\n",
    " return tf.train.Feature(float_list=tf.train.FloatList(value=[value]))\n",
    "\n",
    "def _int64_feature(value):\n",
    " \"\"\"Returns an int64_list from a bool / enum / int / uint.\"\"\"\n",
    " return tf.train.Feature(int64_list=tf.train.Int64List(value=[value]))\n",
    "\n",
    "def create_records(df, y, query_id, labels, name):\n",
    "    options_ = tf.io.TFRecordOptions(compression_type='GZIP')\n",
    "    writer = tf.io.TFRecordWriter(f\"./{name}.record\")\n",
    "    \n",
    "    elwc = input_pb2.ExampleListWithContext()\n",
    "    last_query_id = None\n",
    "\n",
    "    i = 0\n",
    "    for qid, relevance, row in tqdm(zip(query_id, y, df.iterrows()), total=df.shape[0]):\n",
    "        # print(qid, relevance, row[1].values)\n",
    "\n",
    "        example_dict = {\n",
    "           f'f{feat_name}': _float_feature(feat_val)\n",
    "           for feat_name, feat_val in zip(labels, row[1].values)\n",
    "        }\n",
    "\n",
    "        example_dict['relevance_label'] = _int64_feature(int(relevance))\n",
    "\n",
    "        example_ = tf.train.Example(features=tf.train.Features(feature=example_dict))\n",
    "\n",
    "        if qid != last_query_id:\n",
    "            if last_query_id != None:\n",
    "                writer.write(elwc.SerializeToString())\n",
    "            last_query_id = qid\n",
    "            elwc = input_pb2.ExampleListWithContext()\n",
    "            elwc.examples.append(example_)\n",
    "        else:\n",
    "            elwc.examples.append(example_)\n",
    "\n",
    "    writer.write(elwc.SerializeToString())"
   ]
  },
  {
   "cell_type": "code",
   "execution_count": null,
   "id": "822115fd-d646-40ba-8aff-898c87eca42f",
   "metadata": {},
   "outputs": [],
   "source": [
    "labels = df_vali.columns"
   ]
  },
  {
   "cell_type": "code",
   "execution_count": null,
   "id": "585e5e4a-a7b1-422c-9121-3bc3282a5e8b",
   "metadata": {},
   "outputs": [],
   "source": [
    "del df_vali"
   ]
  },
  {
   "cell_type": "code",
   "execution_count": null,
   "id": "20c09b96-dcdc-4c73-85ae-723e9c1f3093",
   "metadata": {},
   "outputs": [],
   "source": [
    "create_records(df_train, y_train, query_id_train, labels, \"train\") "
   ]
  },
  {
   "cell_type": "code",
   "execution_count": null,
   "id": "85134769-2f4d-427b-a1fe-181bfd988bc0",
   "metadata": {},
   "outputs": [],
   "source": [
    "create_records(df_test, y_test, query_id_test, labels, \"test\")"
   ]
  },
  {
   "cell_type": "code",
   "execution_count": null,
   "id": "0c23c972-046a-4bec-9c37-abf12ad1dd8b",
   "metadata": {},
   "outputs": [],
   "source": [
    "create_records(df_vali, y_vali, query_id_vali, labels, \"vali\")"
   ]
  },
  {
   "cell_type": "code",
   "execution_count": null,
   "id": "e1f74e7c-a35a-4677-a0de-769fbd1e2712",
   "metadata": {},
   "outputs": [],
   "source": []
  },
  {
   "cell_type": "code",
   "execution_count": null,
   "id": "90aa96af-7607-4771-8016-c3e5e1b4f276",
   "metadata": {},
   "outputs": [],
   "source": [
    "context_spec_ = {}\n",
    "example_spec_ = {f'f{feat}': tf.io.FixedLenFeature(shape=(1,), \\\n",
    "                        dtype=tf.float32, default_value=0.0) \\\n",
    "                        for feat in labels}\n",
    "label_spec_ = ('relevance_label', \\\n",
    "                tf.io.FixedLenFeature(shape=(1,), \\\n",
    "                dtype=tf.int64, \\\n",
    "                default_value=-1))\n",
    "\n",
    "# Define Input Creator\n",
    "input_creator= tfr.keras.model.FeatureSpecInputCreator(\n",
    "        context_feature_spec={},\n",
    "        example_feature_spec=example_spec_)"
   ]
  },
  {
   "cell_type": "code",
   "execution_count": null,
   "id": "68c30d10-e85a-492a-a38e-4265eb8b0493",
   "metadata": {},
   "outputs": [],
   "source": [
    "preprocess_spec = {\n",
    "    **{name: lambda t: tf.math.log1p(t * tf.sign(t)) * tf.sign(t)\n",
    "       for name in example_spec_.keys()}\n",
    "}"
   ]
  },
  {
   "cell_type": "code",
   "execution_count": null,
   "id": "7bc72841-2ac8-433f-99c0-3ea46e59ed28",
   "metadata": {},
   "outputs": [],
   "source": [
    "preprocessor=tfr.keras.model.PreprocessorWithSpec(preprocess_spec)\n",
    "# preprocessor=tfr.keras.model.PreprocessorWithSpec()"
   ]
  },
  {
   "cell_type": "code",
   "execution_count": null,
   "id": "d88ae1e4-80fa-4489-b2e8-aa6da3a4650d",
   "metadata": {},
   "outputs": [],
   "source": [
    "scorer = tfr.keras.model.DNNScorer(hidden_layer_dims=[1024,512,256],\n",
    "                                    output_units=1,\n",
    "                                    activation=tf.nn.relu,\n",
    "                                    use_batch_norm=True,\n",
    "                                    batch_norm_moment=0.999,\n",
    "                                    dropout=0.5)"
   ]
  },
  {
   "cell_type": "code",
   "execution_count": null,
   "id": "199404ab-88be-493e-9bdf-1bac47468285",
   "metadata": {},
   "outputs": [],
   "source": [
    "model_builder = tfr.keras.model.ModelBuilder(\n",
    "                                    input_creator=input_creator,\n",
    "                                    preprocessor=preprocessor,\n",
    "                                    scorer=scorer,\n",
    "                                    mask_feature_name=\"example_list_mask\", # TODO: QUE ISSO?\n",
    "                                    name=\"model_builder\"\n",
    ")"
   ]
  },
  {
   "cell_type": "code",
   "execution_count": null,
   "id": "9088abac-049e-41a0-878c-502d68a71ced",
   "metadata": {},
   "outputs": [],
   "source": [
    "dataset_hparams = tfr.keras.pipeline.DatasetHparams(\n",
    "                              train_input_pattern=\"./train.record\",\n",
    "                              valid_input_pattern=\"./vali.record\",\n",
    "                              train_batch_size=128,\n",
    "                              valid_batch_size=128,\n",
    "                              list_size=200,\n",
    "                              dataset_reader=tfr.keras.pipeline.DatasetHparams.dataset_reader\n",
    ")"
   ]
  },
  {
   "cell_type": "code",
   "execution_count": null,
   "id": "e8db8b8e-5ae2-4b5b-a765-74028ce5b1a0",
   "metadata": {},
   "outputs": [],
   "source": [
    "    dataset_builder = tfr.keras.pipeline.SimpleDatasetBuilder(\n",
    "                                              {},\n",
    "                                              example_spec_,\n",
    "                                              mask_feature_name=\"example_list_mask\",\n",
    "                                              label_spec=label_spec_,\n",
    "                                              hparams=dataset_hparams,\n",
    "                                              sample_weight_spec=None\n",
    "   )"
   ]
  },
  {
   "cell_type": "code",
   "execution_count": null,
   "id": "2cbc82eb-ef3c-4710-9820-38479d4b7bdb",
   "metadata": {},
   "outputs": [],
   "source": [
    "    pipeline_hparams = tfr.keras.pipeline.PipelineHparams(\n",
    "                                          model_dir=\"./model/\", # The model_dir argument is the path where TFR will save the model and training data, including Tensorboard files for training visualization.\n",
    "                                          num_epochs=2,\n",
    "                                          steps_per_epoch=5000,\n",
    "                                          validation_steps=125,\n",
    "                                          learning_rate=0.05,\n",
    "                                          loss='approx_ndcg_loss',\n",
    "                                          optimizer='adagrad')"
   ]
  },
  {
   "cell_type": "code",
   "execution_count": null,
   "id": "4ea9d282-6e09-4c45-964d-036e20d9b9ff",
   "metadata": {},
   "outputs": [],
   "source": [
    "\n",
    "ranking_pipeline = tfr.keras.pipeline.SimplePipeline(\n",
    "                                            model_builder,\n",
    "                                            dataset_builder=dataset_builder,\n",
    "                                            hparams=pipeline_hparams\n",
    ") "
   ]
  },
  {
   "cell_type": "code",
   "execution_count": null,
   "id": "65af8662-3091-4425-983e-dec4ff94dbc7",
   "metadata": {},
   "outputs": [],
   "source": [
    "ranking_pipeline.train_and_validate(verbose=1)"
   ]
  },
  {
   "cell_type": "code",
   "execution_count": null,
   "id": "2b2dd6d4-78f6-44fc-8d5d-b1f7bf6b883b",
   "metadata": {},
   "outputs": [],
   "source": [
    "ranking_pipeline."
   ]
  },
  {
   "cell_type": "code",
   "execution_count": null,
   "id": "6de4a749-2ded-4005-9150-96cc106e9b91",
   "metadata": {},
   "outputs": [],
   "source": []
  },
  {
   "cell_type": "code",
   "execution_count": null,
   "id": "db540177-2f05-4e38-a4c6-5ac65aa8e57f",
   "metadata": {},
   "outputs": [],
   "source": [
    "loaded_model = tf.keras.models.load_model(\"./model/export/latest_model\")"
   ]
  },
  {
   "cell_type": "code",
   "execution_count": null,
   "id": "eac1cc73-f329-4974-b384-e3c1de3c9b88",
   "metadata": {},
   "outputs": [],
   "source": [
    "loaded_model"
   ]
  },
  {
   "cell_type": "code",
   "execution_count": null,
   "id": "71a4e552-dd4a-46f6-92e5-8f7d07685232",
   "metadata": {},
   "outputs": [],
   "source": [
    "ds_test = dataset_builder.build_valid_dataset()"
   ]
  },
  {
   "cell_type": "code",
   "execution_count": null,
   "id": "ef2f843b-69bd-4c1f-943f-755b21b20f2f",
   "metadata": {},
   "outputs": [],
   "source": [
    "for x, y in ds_test.take(1):\n",
    "  break"
   ]
  },
  {
   "cell_type": "code",
   "execution_count": null,
   "id": "4715f4ce-126d-4c9f-bc0c-0147736cc690",
   "metadata": {},
   "outputs": [],
   "source": [
    "x"
   ]
  },
  {
   "cell_type": "code",
   "execution_count": null,
   "id": "2a226da5-71dc-409a-8b54-3c8e37d663bb",
   "metadata": {},
   "outputs": [],
   "source": [
    "scores = loaded_model.predict(x)"
   ]
  },
  {
   "cell_type": "code",
   "execution_count": null,
   "id": "9b912377-2941-4bf6-9d5d-840bf292cc6b",
   "metadata": {},
   "outputs": [],
   "source": [
    "scores"
   ]
  },
  {
   "cell_type": "code",
   "execution_count": null,
   "id": "902bd1de-b978-4be9-9a22-7ac4809dd594",
   "metadata": {},
   "outputs": [],
   "source": [
    "min_score = tf.reduce_min(scores)"
   ]
  },
  {
   "cell_type": "code",
   "execution_count": null,
   "id": "15110144-75d1-44bf-8af2-a9721e92c917",
   "metadata": {},
   "outputs": [],
   "source": [
    "min_score"
   ]
  },
  {
   "cell_type": "code",
   "execution_count": null,
   "id": "e4670a27-1ed5-45a8-bd5f-72c0cf7ef29d",
   "metadata": {},
   "outputs": [],
   "source": [
    "scores = tf.where(tf.greater_equal(y, 0.), scores, min_score - 1e-5)"
   ]
  },
  {
   "cell_type": "code",
   "execution_count": null,
   "id": "cd7fd1c3-edeb-4afa-a479-29375965cca8",
   "metadata": {},
   "outputs": [],
   "source": [
    "scores"
   ]
  },
  {
   "cell_type": "code",
   "execution_count": null,
   "id": "568ea766-87bc-42bb-a071-fa2a457235bd",
   "metadata": {},
   "outputs": [],
   "source": []
  },
  {
   "cell_type": "code",
   "execution_count": null,
   "id": "a93223e2-5f1a-4285-b1bd-f6dc488a6c8a",
   "metadata": {},
   "outputs": [],
   "source": []
  },
  {
   "cell_type": "code",
   "execution_count": null,
   "id": "b04bdb40-44ce-4055-9dda-82ede26742a4",
   "metadata": {},
   "outputs": [],
   "source": []
  },
  {
   "cell_type": "code",
   "execution_count": null,
   "id": "b8df4943-9028-46c6-83d6-318eeffea381",
   "metadata": {},
   "outputs": [],
   "source": []
  },
  {
   "cell_type": "code",
   "execution_count": null,
   "id": "8bab9917-d379-4188-bf01-1b212c9e85c3",
   "metadata": {},
   "outputs": [],
   "source": []
  },
  {
   "cell_type": "code",
   "execution_count": null,
   "id": "94f66835-090e-4294-b717-f4235b2ef396",
   "metadata": {},
   "outputs": [],
   "source": []
  },
  {
   "cell_type": "code",
   "execution_count": null,
   "id": "45734b68-d214-4c55-897d-68bbe0c4c242",
   "metadata": {},
   "outputs": [],
   "source": []
  },
  {
   "cell_type": "code",
   "execution_count": null,
   "id": "1e00a45f-5150-4018-ab8f-2ffeb9184224",
   "metadata": {},
   "outputs": [],
   "source": []
  },
  {
   "cell_type": "code",
   "execution_count": null,
   "id": "1005529c-2423-4f03-8ec1-e5ad0303a237",
   "metadata": {},
   "outputs": [],
   "source": [
    "# Prep data\n",
    "ds = tfds.load(\"mslr_web/10k_fold1\", split=\"train\")"
   ]
  },
  {
   "cell_type": "code",
   "execution_count": null,
   "id": "c6c4c1f5-9e65-4443-88dd-e1f534605726",
   "metadata": {},
   "outputs": [],
   "source": [
    "ds"
   ]
  },
  {
   "cell_type": "code",
   "execution_count": null,
   "id": "d1d06bd1-e955-4fec-850b-f06b48c3d45e",
   "metadata": {},
   "outputs": [],
   "source": [
    "ds = ds.take(1)  # Only take a single example\n",
    "\n",
    "for example in ds:\n",
    "    print(list(example.keys()))\n",
    "    print(example)\n"
   ]
  },
  {
   "cell_type": "code",
   "execution_count": null,
   "id": "b7d887d8-d914-4bcc-bbd5-640ec253682e",
   "metadata": {},
   "outputs": [],
   "source": [
    "ds = ds.map(lambda feature_map: {\n",
    "    \"_mask\": tf.ones_like(feature_map[\"label\"], dtype=tf.bool),\n",
    "    **feature_map\n",
    "})\n",
    "ds = ds.shuffle(buffer_size=1000).padded_batch(batch_size=32)\n",
    "ds = ds.map(lambda feature_map: (\n",
    "    feature_map, tf.where(feature_map[\"_mask\"], feature_map.pop(\"label\"), -1.)))"
   ]
  },
  {
   "cell_type": "code",
   "execution_count": null,
   "id": "033387b9-49e5-4340-b6f9-ff1b9ad6d2d9",
   "metadata": {},
   "outputs": [],
   "source": [
    "ds = ds.take(1)  # Only take a single example\n",
    "\n",
    "for example in ds:\n",
    "    # print(list(example.keys()))\n",
    "    print(example)\n"
   ]
  },
  {
   "cell_type": "code",
   "execution_count": null,
   "id": "cfd76ab9-fcbd-482e-9fe2-2854536834ac",
   "metadata": {},
   "outputs": [],
   "source": [
    "# Create a model\n",
    "inputs = {\n",
    "    name: tf.keras.Input(shape=(None, 1), dtype=tf.float32, name=name)\n",
    "    for name in ds.element_spec[0]\n",
    "    if name != \"_mask\"\n",
    "}\n"
   ]
  },
  {
   "cell_type": "code",
   "execution_count": null,
   "id": "8a06bae2-cad3-45e6-8566-36ffb6e6dea3",
   "metadata": {},
   "outputs": [],
   "source": [
    "inputs"
   ]
  },
  {
   "cell_type": "code",
   "execution_count": null,
   "id": "8e9db1ed-ed63-4287-9694-6ace7906d004",
   "metadata": {},
   "outputs": [],
   "source": [
    "norm_inputs = [tf.keras.layers.BatchNormalization()(x) for x in inputs.values()]\n",
    "x = tf.concat(norm_inputs, axis=-1)\n",
    "for layer_width in [128, 64, 32]:\n",
    "    x = tf.keras.layers.Dense(units=layer_width)(x)\n",
    "    x = tf.keras.layers.Activation(activation=tf.nn.relu)(x)\n",
    "scores = tf.squeeze(tf.keras.layers.Dense(units=1)(x), axis=-1)"
   ]
  },
  {
   "cell_type": "code",
   "execution_count": null,
   "id": "e7cc782a-92ef-4e2a-895a-0563c8ebc1d4",
   "metadata": {},
   "outputs": [],
   "source": [
    "model = tf.keras.Model(inputs=inputs, outputs=scores)\n",
    "model.compile(\n",
    "    optimizer=tf.keras.optimizers.Adam(learning_rate=0.01),\n",
    "    loss=tfr.keras.losses.SoftmaxLoss(),\n",
    "    metrics=tfr.keras.metrics.get(\"ndcg\", topn=5, name=\"NDCG@5\"))\n",
    "model.fit(ds, epochs=3)"
   ]
  },
  {
   "cell_type": "code",
   "execution_count": null,
   "id": "625e2b7e-2414-4dd2-a239-d8b5349a9fb7",
   "metadata": {},
   "outputs": [],
   "source": []
  }
 ],
 "metadata": {
  "kernelspec": {
   "display_name": "Python 3",
   "language": "python",
   "name": "python3"
  },
  "language_info": {
   "codemirror_mode": {
    "name": "ipython",
    "version": 3
   },
   "file_extension": ".py",
   "mimetype": "text/x-python",
   "name": "python",
   "nbconvert_exporter": "python",
   "pygments_lexer": "ipython3",
   "version": "3.9.12"
  }
 },
 "nbformat": 4,
 "nbformat_minor": 5
}
