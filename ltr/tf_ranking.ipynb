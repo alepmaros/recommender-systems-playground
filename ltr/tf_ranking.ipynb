{
 "cells": [
  {
   "cell_type": "code",
   "execution_count": 1,
   "id": "8b313243-d1be-4b99-baaf-f18bd0c70249",
   "metadata": {},
   "outputs": [],
   "source": [
    "import tensorflow as tf\n",
    "import tensorflow_datasets as tfds\n",
    "import tensorflow_ranking as tfr\n",
    "\n",
    "from utils import read_data, get_ndcg\n",
    "\n",
    "import numpy as np\n",
    "from tqdm import tqdm\n",
    "\n",
    "from tensorflow_serving.apis import input_pb2"
   ]
  },
  {
   "cell_type": "code",
   "execution_count": 2,
   "id": "5a9e7343-748b-4ee9-b85c-51f9cd89ce45",
   "metadata": {},
   "outputs": [],
   "source": [
    "# df_train, y_train, group_size_train, query_id_train = read_data('Fold1', 'train')\n",
    "# df_vali, y_vali, group_size_vali, query_id_vali = read_data('Fold1', 'vali')\n",
    "df_test, y_test, group_size_test, query_id_test = read_data('Fold1', 'test')\n",
    "\n",
    "# X_columns = df_train.columns"
   ]
  },
  {
   "cell_type": "code",
   "execution_count": 3,
   "id": "60fc6255-7452-42f6-9cf3-97664ff0a2f8",
   "metadata": {},
   "outputs": [],
   "source": [
    "def _float_feature(value):\n",
    " \"\"\"Returns a float_list from a float / double.\"\"\"\n",
    " return tf.train.Feature(float_list=tf.train.FloatList(value=[value]))\n",
    "\n",
    "def _int64_feature(value):\n",
    " \"\"\"Returns an int64_list from a bool / enum / int / uint.\"\"\"\n",
    " return tf.train.Feature(int64_list=tf.train.Int64List(value=[value]))\n",
    "\n",
    "def create_records(df, y, query_id, labels, name):\n",
    "    options_ = tf.io.TFRecordOptions(compression_type='GZIP')\n",
    "    writer = tf.io.TFRecordWriter(f\"./{name}.record\")\n",
    "    \n",
    "    elwc = input_pb2.ExampleListWithContext()\n",
    "    last_query_id = None\n",
    "\n",
    "    i = 0\n",
    "    for qid, relevance, row in tqdm(zip(query_id, y, df.iterrows()), total=df.shape[0]):\n",
    "        # print(qid, relevance, row[1].values)\n",
    "\n",
    "        example_dict = {\n",
    "           f'f{feat_name}': _float_feature(feat_val)\n",
    "           for feat_name, feat_val in zip(labels, row[1].values)\n",
    "        }\n",
    "\n",
    "        example_dict['relevance_label'] = _int64_feature(int(relevance))\n",
    "\n",
    "        example_ = tf.train.Example(features=tf.train.Features(feature=example_dict))\n",
    "\n",
    "        if qid != last_query_id:\n",
    "            if last_query_id != None:\n",
    "                writer.write(elwc.SerializeToString())\n",
    "            last_query_id = qid\n",
    "            elwc = input_pb2.ExampleListWithContext()\n",
    "            elwc.examples.append(example_)\n",
    "        else:\n",
    "            elwc.examples.append(example_)\n",
    "\n",
    "    writer.write(elwc.SerializeToString())"
   ]
  },
  {
   "cell_type": "code",
   "execution_count": 3,
   "id": "822115fd-d646-40ba-8aff-898c87eca42f",
   "metadata": {},
   "outputs": [],
   "source": [
    "labels = df_test.columns"
   ]
  },
  {
   "cell_type": "code",
   "execution_count": null,
   "id": "20c09b96-dcdc-4c73-85ae-723e9c1f3093",
   "metadata": {},
   "outputs": [],
   "source": [
    "create_records(df_train, y_train, query_id_train, labels, \"train\") "
   ]
  },
  {
   "cell_type": "code",
   "execution_count": null,
   "id": "85134769-2f4d-427b-a1fe-181bfd988bc0",
   "metadata": {},
   "outputs": [],
   "source": [
    "create_records(df_test, y_test, query_id_test, labels, \"test\")"
   ]
  },
  {
   "cell_type": "code",
   "execution_count": null,
   "id": "0c23c972-046a-4bec-9c37-abf12ad1dd8b",
   "metadata": {},
   "outputs": [],
   "source": [
    "create_records(df_vali, y_vali, query_id_vali, labels, \"vali\")"
   ]
  },
  {
   "cell_type": "code",
   "execution_count": null,
   "id": "e1f74e7c-a35a-4677-a0de-769fbd1e2712",
   "metadata": {},
   "outputs": [],
   "source": []
  },
  {
   "cell_type": "code",
   "execution_count": 5,
   "id": "90aa96af-7607-4771-8016-c3e5e1b4f276",
   "metadata": {},
   "outputs": [],
   "source": [
    "context_spec_ = {}\n",
    "example_spec_ = {f'f{feat}': tf.io.FixedLenFeature(shape=(1,), \\\n",
    "                        dtype=tf.float32, default_value=0.0) \\\n",
    "                        for feat in labels}\n",
    "label_spec_ = ('relevance_label', \\\n",
    "                tf.io.FixedLenFeature(shape=(1,), \\\n",
    "                dtype=tf.int64, \\\n",
    "                default_value=-1))\n",
    "\n",
    "# Define Input Creator\n",
    "input_creator= tfr.keras.model.FeatureSpecInputCreator(\n",
    "        context_feature_spec={},\n",
    "        example_feature_spec=example_spec_)"
   ]
  },
  {
   "cell_type": "code",
   "execution_count": 6,
   "id": "68c30d10-e85a-492a-a38e-4265eb8b0493",
   "metadata": {},
   "outputs": [],
   "source": [
    "preprocess_spec = {\n",
    "    **{name: lambda t: tf.math.log1p(t * tf.sign(t)) * tf.sign(t)\n",
    "       for name in example_spec_.keys()}\n",
    "}"
   ]
  },
  {
   "cell_type": "code",
   "execution_count": 7,
   "id": "7bc72841-2ac8-433f-99c0-3ea46e59ed28",
   "metadata": {},
   "outputs": [],
   "source": [
    "preprocessor=tfr.keras.model.PreprocessorWithSpec(preprocess_spec)\n",
    "# preprocessor=tfr.keras.model.PreprocessorWithSpec()"
   ]
  },
  {
   "cell_type": "code",
   "execution_count": 8,
   "id": "d88ae1e4-80fa-4489-b2e8-aa6da3a4650d",
   "metadata": {},
   "outputs": [],
   "source": [
    "scorer = tfr.keras.model.DNNScorer(\n",
    "    hidden_layer_dims=[1024,512,256],\n",
    "    output_units=1,\n",
    "    activation=tf.nn.relu,\n",
    "    use_batch_norm=True,\n",
    "    batch_norm_moment=0.999,\n",
    "    dropout=0.5\n",
    ")"
   ]
  },
  {
   "cell_type": "code",
   "execution_count": 9,
   "id": "199404ab-88be-493e-9bdf-1bac47468285",
   "metadata": {},
   "outputs": [],
   "source": [
    "model_builder = tfr.keras.model.ModelBuilder(\n",
    "    input_creator=input_creator,\n",
    "    preprocessor=preprocessor,\n",
    "    scorer=scorer,\n",
    "    mask_feature_name=\"example_list_mask\", # TODO: QUE ISSO?\n",
    "    name=\"model_builder\"\n",
    ")"
   ]
  },
  {
   "cell_type": "code",
   "execution_count": 10,
   "id": "9088abac-049e-41a0-878c-502d68a71ced",
   "metadata": {},
   "outputs": [],
   "source": [
    "dataset_hparams = tfr.keras.pipeline.DatasetHparams(\n",
    "    train_input_pattern=\"./train.record\",\n",
    "    valid_input_pattern=\"./vali.record\",\n",
    "    train_batch_size=128,\n",
    "    valid_batch_size=128,\n",
    "    list_size=600, # TODO: What happens if list is bigger?\n",
    "    dataset_reader=tfr.keras.pipeline.DatasetHparams.dataset_reader\n",
    ")"
   ]
  },
  {
   "cell_type": "code",
   "execution_count": 11,
   "id": "e8db8b8e-5ae2-4b5b-a765-74028ce5b1a0",
   "metadata": {},
   "outputs": [],
   "source": [
    "dataset_builder = tfr.keras.pipeline.SimpleDatasetBuilder(\n",
    "    {},\n",
    "    example_spec_,\n",
    "    mask_feature_name=\"example_list_mask\",\n",
    "    label_spec=label_spec_,\n",
    "    hparams=dataset_hparams,\n",
    "    sample_weight_spec=None\n",
    ")"
   ]
  },
  {
   "cell_type": "code",
   "execution_count": 15,
   "id": "2cbc82eb-ef3c-4710-9820-38479d4b7bdb",
   "metadata": {},
   "outputs": [],
   "source": [
    "pipeline_hparams = tfr.keras.pipeline.PipelineHparams(\n",
    "    model_dir=\"./model/\", # The model_dir argument is the path where TFR will save the model and training data, including Tensorboard files for training visualization.\n",
    "    num_epochs=18,\n",
    "    steps_per_epoch=5000,\n",
    "    validation_steps=125,\n",
    "    learning_rate=0.05,\n",
    "    loss='approx_ndcg_loss',\n",
    "    optimizer='adagrad'\n",
    ")"
   ]
  },
  {
   "cell_type": "code",
   "execution_count": 16,
   "id": "4ea9d282-6e09-4c45-964d-036e20d9b9ff",
   "metadata": {},
   "outputs": [],
   "source": [
    "ranking_pipeline = tfr.keras.pipeline.SimplePipeline(\n",
    "    model_builder,\n",
    "    dataset_builder=dataset_builder,\n",
    "    hparams=pipeline_hparams\n",
    ") "
   ]
  },
  {
   "cell_type": "code",
   "execution_count": 17,
   "id": "65af8662-3091-4425-983e-dec4ff94dbc7",
   "metadata": {},
   "outputs": [
    {
     "name": "stdout",
     "output_type": "stream",
     "text": [
      "WARNING:tensorflow:`tf.keras.callbacks.experimental.BackupAndRestore` endpoint is deprecated and will be removed in a future release. Please use `tf.keras.callbacks.BackupAndRestore`.\n"
     ]
    },
    {
     "name": "stderr",
     "output_type": "stream",
     "text": [
      "WARNING:tensorflow:`tf.keras.callbacks.experimental.BackupAndRestore` endpoint is deprecated and will be removed in a future release. Please use `tf.keras.callbacks.BackupAndRestore`.\n"
     ]
    },
    {
     "name": "stdout",
     "output_type": "stream",
     "text": [
      "Epoch 18/18\n",
      "5000/5000 [==============================] - 916s 183ms/step - loss: -0.7069 - metric/ndcg_1: 0.4843 - metric/ndcg_5: 0.4586 - metric/ndcg_10: 0.4725 - metric/ndcg: 0.7074 - val_loss: -0.6979 - val_metric/ndcg_1: 0.4576 - val_metric/ndcg_5: 0.4459 - val_metric/ndcg_10: 0.4613 - val_metric/ndcg: 0.6987\n",
      "INFO:tensorflow:Assets written to: ./model/export/latest_model/assets\n"
     ]
    },
    {
     "name": "stderr",
     "output_type": "stream",
     "text": [
      "INFO:tensorflow:Assets written to: ./model/export/latest_model/assets\n"
     ]
    }
   ],
   "source": [
    "ranking_pipeline.train_and_validate(verbose=1)"
   ]
  },
  {
   "cell_type": "markdown",
   "id": "b94608a5-863a-4611-8127-8b35b53d4940",
   "metadata": {},
   "source": [
    "# Load model and predict\n",
    "\n",
    "TODO: This prediction needs to be fixed. It is a mess at the moment"
   ]
  },
  {
   "cell_type": "code",
   "execution_count": 4,
   "id": "db540177-2f05-4e38-a4c6-5ac65aa8e57f",
   "metadata": {},
   "outputs": [],
   "source": [
    "loaded_model = tf.keras.models.load_model(\"./model/export/latest_model\")"
   ]
  },
  {
   "cell_type": "code",
   "execution_count": 5,
   "id": "594ea1f8-956c-4358-aadc-26938351e0c1",
   "metadata": {},
   "outputs": [],
   "source": [
    "# raw_dataset = tf.data.TFRecordDataset([\"test.record\"])\n",
    "# raw_dataset"
   ]
  },
  {
   "cell_type": "code",
   "execution_count": 6,
   "id": "36db4587-3aad-45b6-97e1-80833228fac9",
   "metadata": {},
   "outputs": [],
   "source": [
    "# for raw_record in raw_dataset:\n",
    "#     rr = raw_record\n",
    "#     example = input_pb2.ExampleListWithContext()\n",
    "#     example.ParseFromString(raw_record.numpy())"
   ]
  },
  {
   "cell_type": "code",
   "execution_count": 7,
   "id": "3d65d983-6c98-48a6-baa8-98d2170247a7",
   "metadata": {},
   "outputs": [],
   "source": [
    "df_test_copy = df_test.copy()\n",
    "df_test_copy[\"query_id\"] = query_id_test"
   ]
  },
  {
   "cell_type": "code",
   "execution_count": null,
   "id": "67d1f8d9-79d8-4bb1-980a-d5467056f74c",
   "metadata": {},
   "outputs": [],
   "source": [
    "groups = df_test_copy.groupby([\"query_id\"])\n",
    "for query, group in tqdm(groups, total=len(groups)):\n",
    "    pred_dict = {}\n",
    "    for column in group.columns:\n",
    "        if column != \"query_id\":\n",
    "            arr = np.pad(group[column], [0, 600-group.shape[0]])\n",
    "            arr = np.reshape(arr, (1,600,1))\n",
    "            pred_dict[f\"f{column}\"] = tf.constant(arr)\n",
    "        \n",
    "    pred_dict[\"example_list_mask\"] = tf.constant(np.reshape(np.array(np.pad(np.ones(group.shape[0]), [0, 600-group.shape[0]]), dtype=np.bool), (1, 600)))\n",
    "    \n",
    "    scores = loaded_model.predict(pred_dict)\n",
    "    df_test.loc[group.index, \"predicted_scores\"] = list(scores[0][0:group.shape[0]])"
   ]
  },
  {
   "cell_type": "code",
   "execution_count": 14,
   "id": "3f8cd139-5cf2-4369-b946-3b3d434190f1",
   "metadata": {},
   "outputs": [],
   "source": [
    "import pandas as pd\n",
    "from sklearn.metrics import ndcg_score\n",
    "\n",
    "import numpy as np"
   ]
  },
  {
   "cell_type": "code",
   "execution_count": 15,
   "id": "f10a1bb2-1d7b-4cfd-b400-c7d0f5e6bc81",
   "metadata": {},
   "outputs": [],
   "source": [
    "def get_ndcg_2(predicted_score, true_score, query_id, k=5):\n",
    "    \"\"\"\n",
    "    model: Predictor\n",
    "    df: Dataframe containing features\n",
    "    true_score: True relevance labels\n",
    "    query_id: A pd.Series containing the query_id for that row. Same shape as df.\n",
    "    k: @k NDCG metric\n",
    "    \"\"\"\n",
    "    # predicted_score += np.abs(np.min(predicted_score))\n",
    "    \n",
    "    ndcg_df = pd.DataFrame({'query_id': query_id, 'true_score': true_score, 'predicted_score': predicted_score})\n",
    "    \n",
    "    true_score_test = ndcg_df.groupby(['query_id'])['true_score'].apply(list).tolist()\n",
    "    predicted_score_test = ndcg_df.groupby(['query_id'])['predicted_score'].apply(list).tolist()\n",
    "\n",
    "    return np.mean([ndcg_score([_true], [_predicted], k=k) for _true, _predicted in zip(true_score_test, predicted_score_test) if len(_true) > 1])"
   ]
  },
  {
   "cell_type": "code",
   "execution_count": 16,
   "id": "1a0bdada-a3da-416a-a271-bddcbc02b173",
   "metadata": {},
   "outputs": [
    {
     "data": {
      "text/plain": [
       "0.5308703162842248"
      ]
     },
     "execution_count": 16,
     "metadata": {},
     "output_type": "execute_result"
    }
   ],
   "source": [
    "get_ndcg_2(df_test.predicted_scores, y_test, query_id_test, k=10)"
   ]
  },
  {
   "cell_type": "code",
   "execution_count": null,
   "id": "4c976ce8-9e56-4de9-9b74-2452fb579f0d",
   "metadata": {},
   "outputs": [],
   "source": [
    "# 0.527\n",
    "# print(get_ndcg(model=model, df=df_test, true_score=y_test, query_id=query_id_test, k=k))"
   ]
  },
  {
   "cell_type": "code",
   "execution_count": null,
   "id": "06838943-6e16-4798-bfc2-2dc1a5d9ef61",
   "metadata": {},
   "outputs": [],
   "source": []
  }
 ],
 "metadata": {
  "kernelspec": {
   "display_name": "Python 3",
   "language": "python",
   "name": "python3"
  },
  "language_info": {
   "codemirror_mode": {
    "name": "ipython",
    "version": 3
   },
   "file_extension": ".py",
   "mimetype": "text/x-python",
   "name": "python",
   "nbconvert_exporter": "python",
   "pygments_lexer": "ipython3",
   "version": "3.9.12"
  }
 },
 "nbformat": 4,
 "nbformat_minor": 5
}
